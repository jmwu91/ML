{
 "cells": [
  {
   "cell_type": "code",
   "execution_count": 1,
   "metadata": {},
   "outputs": [],
   "source": [
    "# compare performance of decision tree, RF and boosting\n",
    "import numpy as np\n",
    "from sklearn.datasets import make_friedman1\n",
    "from sklearn.tree import DecisionTreeRegressor\n",
    "from sklearn.model_selection import train_test_split\n",
    "from sklearn.metrics import r2_score"
   ]
  },
  {
   "cell_type": "code",
   "execution_count": 2,
   "metadata": {},
   "outputs": [],
   "source": [
    "# create regression problem\n",
    "n_points = 1000 # points\n",
    "x, y =  make_friedman1(n_samples=n_points, n_features=15, \n",
    "                       noise=1.0, random_state=100)\n",
    "\n",
    "# split to train/test set\n",
    "x_train, x_test, y_train, y_test = \\\n",
    "        train_test_split(x, y, test_size=0.33, random_state=100)"
   ]
  },
  {
   "cell_type": "code",
   "execution_count": 3,
   "metadata": {},
   "outputs": [
    {
     "name": "stdout",
     "output_type": "stream",
     "text": [
      "Decision Tree R^2 score =  0.5668634601419928\n"
     ]
    }
   ],
   "source": [
    "# decision tree\n",
    "from sklearn.tree import DecisionTreeRegressor\n",
    "\n",
    "# training\n",
    "regTree = DecisionTreeRegressor(random_state=100)\n",
    "regTree.fit(x_train,y_train)\n",
    "\n",
    "# test\n",
    "yhatdt = regTree.predict(x_test)\n",
    "print(\"Decision Tree R^2 score = \", r2_score(y_test, yhatdt))"
   ]
  },
  {
   "cell_type": "code",
   "execution_count": 4,
   "metadata": {},
   "outputs": [
    {
     "name": "stdout",
     "output_type": "stream",
     "text": [
      "Random Forest R^2 score =  0.8097663209351416\n"
     ]
    }
   ],
   "source": [
    "# random forest\n",
    "from sklearn.ensemble import RandomForestRegressor\n",
    "\n",
    "# training\n",
    "rf = RandomForestRegressor(n_estimators=500, max_features=8, random_state=100)\n",
    "rf.fit(x_train,y_train)\n",
    "\n",
    "# test\n",
    "yhatrf = rf.predict(x_test)\n",
    "print(\"Random Forest R^2 score = \", r2_score(y_test, yhatrf))"
   ]
  },
  {
   "cell_type": "code",
   "execution_count": 5,
   "metadata": {},
   "outputs": [
    {
     "name": "stdout",
     "output_type": "stream",
     "text": [
      "Gradient Boosting R^2 score =  0.8992706169055638\n"
     ]
    }
   ],
   "source": [
    "# boosting sklearn\n",
    "from sklearn.ensemble import GradientBoostingRegressor\n",
    "\n",
    "# training\n",
    "breg = GradientBoostingRegressor(learning_rate=0.1, \n",
    "            n_estimators=100, max_depth =3, random_state=100)\n",
    "breg.fit(x_train,y_train)\n",
    "\n",
    "# test\n",
    "yhatb = breg.predict(x_test)\n",
    "print(\"Gradient Boosting R^2 score = \",r2_score(y_test, yhatb))"
   ]
  },
  {
   "cell_type": "code",
   "execution_count": null,
   "metadata": {},
   "outputs": [],
   "source": []
  }
 ],
 "metadata": {
  "kernelspec": {
   "display_name": "Python 3 (ipykernel)",
   "language": "python",
   "name": "python3"
  },
  "language_info": {
   "codemirror_mode": {
    "name": "ipython",
    "version": 3
   },
   "file_extension": ".py",
   "mimetype": "text/x-python",
   "name": "python",
   "nbconvert_exporter": "python",
   "pygments_lexer": "ipython3",
   "version": "3.11.5"
  }
 },
 "nbformat": 4,
 "nbformat_minor": 4
}
