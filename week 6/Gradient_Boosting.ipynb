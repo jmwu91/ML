{
 "cells": [
  {
   "cell_type": "markdown",
   "id": "12615fdd-68b0-4a29-b94a-c351ff8f1353",
   "metadata": {},
   "source": [
    "### Gradient Boosting Implementation"
   ]
  },
  {
   "cell_type": "code",
   "execution_count": 1,
   "id": "f1574cf7-69fe-4cd1-8b30-f6062abad483",
   "metadata": {},
   "outputs": [],
   "source": [
    "import numpy as np\n",
    "from sklearn.tree import DecisionTreeRegressor\n",
    "from scipy.optimize import minimize_scalar\n",
    "from sklearn.metrics import accuracy_score\n",
    "from sklearn.datasets import make_moons\n",
    "from sklearn.model_selection import train_test_split\n",
    "\n",
    "def fit_gradient_boosting(X, y, n_estimators=10):\n",
    "     # Initialize\n",
    "    n_samples, n_features = X.shape\n",
    "    estimators = []\n",
    "    F = np.full((n_samples, ), 0.0)  # Predictions of each training example using the ensemble\n",
    "    \n",
    "    for t in range(n_estimators):\n",
    "        # Fit a weak learner to the residuals, which are computed as gradient(Loss(y, F))\n",
    "        residuals = y - F\n",
    "        h = DecisionTreeRegressor(max_depth=1)\n",
    "        h.fit(X, residuals)\n",
    "    \n",
    "        # Compute a step length that produces the best improvement in the loss\n",
    "        hreg = h.predict(X)\n",
    "        loss = lambda a: 0.5*np.linalg.norm(y - (F + a * hreg))**2\n",
    "        step = minimize_scalar(loss, method='golden')\n",
    "        a = step.x\n",
    "\n",
    "        # Update the ensemble predictions\n",
    "        F += a * hreg\n",
    "\n",
    "        # Update the ensemble\n",
    "        estimators.append((a, h))\n",
    "    \n",
    "    return estimators"
   ]
  },
  {
   "cell_type": "code",
   "execution_count": 2,
   "id": "f72d20a4-d5c7-4b8f-872e-6ff8fac5136a",
   "metadata": {},
   "outputs": [],
   "source": [
    "def predict_gradient_boosting(X, estimators):\n",
    "    pred = np.zeros((X.shape[0], ))\n",
    "\n",
    "    for a, h in estimators:\n",
    "        pred += a * h.predict(X)\n",
    "\n",
    "    y = np.sign(pred)\n",
    "\n",
    "    return y"
   ]
  },
  {
   "cell_type": "code",
   "execution_count": 3,
   "id": "bde03e37-578f-4859-b52b-371f8a941fa8",
   "metadata": {
    "tags": []
   },
   "outputs": [
    {
     "data": {
      "text/plain": [
       "0.06000000000000005"
      ]
     },
     "execution_count": 3,
     "metadata": {},
     "output_type": "execute_result"
    }
   ],
   "source": [
    "X, y = make_moons(n_samples=200, noise=0.15, random_state=13)\n",
    "y = 2 * y - 1\n",
    "Xtrn, Xtst, ytrn, ytst = train_test_split(X, y, test_size=0.25, random_state=11)\n",
    "\n",
    "estimators = fit_gradient_boosting(Xtrn, ytrn)\n",
    "ypred = predict_gradient_boosting(Xtst, estimators)\n",
    "\n",
    "from sklearn.metrics import accuracy_score\n",
    "tst_err = 1 - accuracy_score(ytst, ypred)\n",
    "tst_err"
   ]
  },
  {
   "cell_type": "code",
   "execution_count": null,
   "id": "d7d7126b-ce18-429f-a761-608a5e5ed6da",
   "metadata": {},
   "outputs": [],
   "source": []
  }
 ],
 "metadata": {
  "kernelspec": {
   "display_name": "Python 3 (ipykernel)",
   "language": "python",
   "name": "python3"
  },
  "language_info": {
   "codemirror_mode": {
    "name": "ipython",
    "version": 3
   },
   "file_extension": ".py",
   "mimetype": "text/x-python",
   "name": "python",
   "nbconvert_exporter": "python",
   "pygments_lexer": "ipython3",
   "version": "3.11.5"
  }
 },
 "nbformat": 4,
 "nbformat_minor": 5
}
