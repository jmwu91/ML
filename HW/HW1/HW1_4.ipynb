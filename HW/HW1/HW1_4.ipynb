{
 "cells": [
  {
   "attachments": {},
   "cell_type": "markdown",
   "id": "317e9253",
   "metadata": {},
   "source": [
    "# Description\n",
    "You are to use NumPy's random module with a given seed to generate random integers, ranging from 0 to 120 ($0 \\le x < 120$), in a 1D array of size $n$. Adjust the grade records below 40 to 40 and above 100 to 100. Then, change the shape of the 1D array into an $r$ by $c$ 2D array. Last, you are to find those rows with a mean larger than the threshold $m$ and report the 2D array and the sum of those rows. You should report dimension inconsistency if the 1D array cannot be converted into an $r$ by $c$ 2D array. \n",
    "\n",
    "# Input\n",
    "A string containing the following information:\n",
    "- n (size of the 1D array)</br>\n",
    "- r (number of rows)</br>\n",
    "- c (number of columns)</br>\n",
    "- m (an integer threshold)</br>\n",
    "- seed (random seed)</br>\n",
    "\n",
    "# Output\n",
    "You should report 'Dimension is inconsistent' or \n",
    "- the 2D array\n",
    "- the sum of those rows with a mean larger than m\n"
   ]
  },
  {
   "cell_type": "markdown",
   "id": "37447eef",
   "metadata": {},
   "source": [
    "## Reading Input (given)\n",
    "The following lines of code will help you read in the input integers"
   ]
  },
  {
   "cell_type": "code",
   "execution_count": 1,
   "id": "f569bd83",
   "metadata": {},
   "outputs": [],
   "source": [
    "str_in = input()\n",
    "# str_in = '12, 3, 3, 60, 0'\n",
    "# str_in = '12, 4, 3, 60, 0'\n",
    "# str_in = '6, 2, 3, 80, 42'"
   ]
  },
  {
   "cell_type": "markdown",
   "id": "22997bcb",
   "metadata": {},
   "source": [
    "# Main Program (write your main program here and copy and paste them to online judge when you are confident.)"
   ]
  },
  {
   "cell_type": "code",
   "execution_count": 14,
   "id": "dbf409d2-d1ac-421d-87b7-1c20c3c25e57",
   "metadata": {},
   "outputs": [
    {
     "name": "stdout",
     "output_type": "stream",
     "text": [
      "The adjusted 2D array\n",
      "[[ 44  47 100]\n",
      " [ 64  67  67]\n",
      " [100  40  83]\n",
      " [ 40 100  40]]\n",
      "The sum of those rows with a mean larger than 60\n",
      "[191 198 223]\n"
     ]
    }
   ],
   "source": [
    "import numpy as np\n",
    "\n",
    "str_in = input()\n",
    "n, r, c, m, seed = map(int, str_in.split(', '))\n",
    "\n",
    "def matrix():\n",
    "    if r * c != n:\n",
    "        print(\"Dimension is inconsistent\")\n",
    "        return\n",
    "    \n",
    "    np.random.seed(seed)\n",
    "    \n",
    "    array = np.random.randint(0, 120, size = n)\n",
    "    array = np.clip(array, 40, 100)\n",
    "    \n",
    "    # reshape array\n",
    "    array_2d = array.reshape(r, c)\n",
    "    # cal mean\n",
    "    mean = array_2d.mean(axis = 1)\n",
    "    # mean > m\n",
    "    rows_above_threshold = array_2d[mean > m]\n",
    "\n",
    "    print(\"The adjusted 2D array\")\n",
    "    print(array_2d)\n",
    "    if len(rows_above_threshold) > 0:\n",
    "        print(\"The sum of those rows with a mean larger than\", m)\n",
    "        print(rows_above_threshold.sum(axis = 1))\n",
    "    else:\n",
    "        print(\"No rows have a mean larger than\", m)\n",
    "\n",
    "matrix()"
   ]
  },
  {
   "cell_type": "code",
   "execution_count": null,
   "id": "f7677e7f",
   "metadata": {},
   "outputs": [],
   "source": []
  },
  {
   "cell_type": "code",
   "execution_count": null,
   "id": "d6499577",
   "metadata": {},
   "outputs": [],
   "source": []
  }
 ],
 "metadata": {
  "kernelspec": {
   "display_name": "Python 3 (ipykernel)",
   "language": "python",
   "name": "python3"
  },
  "language_info": {
   "codemirror_mode": {
    "name": "ipython",
    "version": 3
   },
   "file_extension": ".py",
   "mimetype": "text/x-python",
   "name": "python",
   "nbconvert_exporter": "python",
   "pygments_lexer": "ipython3",
   "version": "3.12.3"
  }
 },
 "nbformat": 4,
 "nbformat_minor": 5
}
