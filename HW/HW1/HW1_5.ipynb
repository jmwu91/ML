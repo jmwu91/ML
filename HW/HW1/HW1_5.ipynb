{
 "cells": [
  {
   "cell_type": "markdown",
   "id": "5089ce07",
   "metadata": {},
   "source": [
    "# Description\n",
    "\n",
    "Please write a program that performs polynomial simplification and polynomial multiplication. A polynomial is defined as:\n",
    "\n",
    "$P(x)=a_n x^n+⋯+a_1 x+a_0$\n",
    "\n",
    "For simplicity, consider the coefficients $a_0$ as integers and the power $n \\ge 0$. Use a dictionary to represent a polynomial that only saves non-zero terms. The first line of input will be several (power, coefficient) pairs, which represent the non-zero terms of $P_1 (x)$, and the second line represents $P_2 (x)$. Note that input may not be the polynomial after simplifying; that is, the same power may occur more than once, and you should sum them all. Please output the non-zero terms of $P_1 (x)$, $P_2 (x)$ and the result of $P_1 (x)×P_2 (x)$ in dictionary form. If the polynomial is a zero-polynomial, please output 0 directly.\n",
    "# Input \n",
    "\n",
    "(power,coefficient) pairs of $P_1 (x)$ without simplifying</br>\n",
    "(power,coefficient) pairs of $P_2 (x)$ without simplifying</br>\n",
    "\n",
    "# Output\n",
    "\n",
    "A dictionary with non-zero terms of $P_1 (x)$ in ascending order</br>\n",
    "A dictionary with non-zero terms of $P_2 (x)$ in ascending order</br>\n",
    "A dictionary with non-zero terms of $P_1 (x)×P_2 (x)$ in ascending order</br>\n"
   ]
  },
  {
   "cell_type": "markdown",
   "id": "91be5a1a",
   "metadata": {},
   "source": [
    "# Read Input Integers (given)"
   ]
  },
  {
   "cell_type": "code",
   "execution_count": 1,
   "id": "37ffdb8e",
   "metadata": {},
   "outputs": [],
   "source": [
    "p1 = input()\n",
    "p2 = input()\n",
    "#p1 = '(0,1) (0,2)'\n",
    "#p2 = '(0,3) (1,4)'\n",
    "#p1 = '(0,1) (2,3) (4,5) (4,-7) (2,5)'\n",
    "#p2 = '(10,9) (8,7) (6,5) (6,-5) (7,-1)'\n",
    "#p1 = '(0,1) (2,3) (4,5) (4,-5) (2,-3) (0,-1)'\n",
    "#p2 = '(0,1) (1,2) (2,3) (3,4) (4,5)'"
   ]
  },
  {
   "cell_type": "markdown",
   "id": "da763a44",
   "metadata": {},
   "source": [
    "# Main Program (write your main program here and copy and paste them to online judge when you are confident.)"
   ]
  },
  {
   "cell_type": "code",
   "execution_count": null,
   "id": "81090b55",
   "metadata": {},
   "outputs": [],
   "source": []
  },
  {
   "cell_type": "code",
   "execution_count": null,
   "id": "fde3b623",
   "metadata": {},
   "outputs": [],
   "source": [
    "def read_polynomial(poly_input):\n",
    "    # Remove parentheses and split the input into pairs\n",
    "    poly_input = poly_input.strip().split(\") (\")\n",
    "    poly_input[0] = poly_input[0].replace(\"(\", \"\")\n",
    "    poly_input[-1] = poly_input[-1].replace(\")\", \"\")\n",
    "    \n",
    "    poly = {}\n",
    "    for term in poly_input:\n",
    "        power, coefficient = map(int, term.split(\",\"))\n",
    "        # Add coefficient to the existing power if it already exists, else initialize it\n",
    "        if power in poly:\n",
    "            poly[power] += coefficient\n",
    "        else:\n",
    "            poly[power] = coefficient\n",
    "\n",
    "    # Remove zero terms\n",
    "    poly = {k: v for k, v in poly.items() if v != 0}\n",
    "    return poly\n",
    "\n",
    "def multiply_polynomials(poly1, poly2):\n",
    "    result = {}\n",
    "    \n",
    "    for power1, coef1 in poly1.items():\n",
    "        for power2, coef2 in poly2.items():\n",
    "            new_power = power1 + power2\n",
    "            new_coef = coef1 * coef2\n",
    "            # Sum the coefficients of terms with the same power\n",
    "            if new_power in result:\n",
    "                result[new_power] += new_coef\n",
    "            else:\n",
    "                result[new_power] = new_coef\n",
    "    \n",
    "    # Remove zero terms\n",
    "    result = {k: v for k, v in result.items() if v != 0}\n",
    "    return result\n",
    "\n",
    "def print_polynomial(label, poly):\n",
    "    if poly:\n",
    "        # Print terms in ascending order of powers\n",
    "        sorted_poly = dict(sorted(poly.items()))\n",
    "        print(f\"{label}: {sorted_poly}\")\n",
    "    else:\n",
    "        print(f\"{label}: 0\")\n",
    "\n",
    "def main(p1, p2):\n",
    "    # Read polynomials from the given inputs p1 and p2\n",
    "    P1 = read_polynomial(p1)\n",
    "    P2 = read_polynomial(p2)\n",
    "    \n",
    "    # Output simplified polynomials\n",
    "    print_polynomial(\"The first polynomial after simplification\", P1)\n",
    "    print_polynomial(\"The second polynomial after simplification\", P2)\n",
    "    \n",
    "    # Calculate and output the product of the two polynomials\n",
    "    product = multiply_polynomials(P1, P2)\n",
    "    print_polynomial(\"The product of two polynomials\", product)\n",
    "\n",
    "# Example usage\n",
    "if __name__ == \"__main__\":\n",
    "    p1 = input()  # User inputs the first polynomial as a string\n",
    "    p2 = input()  # User inputs the second polynomial as a string\n",
    "    main(p1, p2)"
   ]
  }
 ],
 "metadata": {
  "kernelspec": {
   "display_name": "Python 3 (ipykernel)",
   "language": "python",
   "name": "python3"
  },
  "language_info": {
   "codemirror_mode": {
    "name": "ipython",
    "version": 3
   },
   "file_extension": ".py",
   "mimetype": "text/x-python",
   "name": "python",
   "nbconvert_exporter": "python",
   "pygments_lexer": "ipython3",
   "version": "3.12.2"
  }
 },
 "nbformat": 4,
 "nbformat_minor": 5
}
