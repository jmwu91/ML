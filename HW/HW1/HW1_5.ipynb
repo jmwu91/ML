{
 "cells": [
  {
   "cell_type": "markdown",
   "id": "5089ce07",
   "metadata": {},
   "source": [
    "# Description\n",
    "\n",
    "Please write a program that performs polynomial simplification and polynomial multiplication. A polynomial is defined as:\n",
    "\n",
    "$P(x)=a_n x^n+⋯+a_1 x+a_0$\n",
    "\n",
    "For simplicity, consider the coefficients $a_0$ as integers and the power $n \\ge 0$. Use a dictionary to represent a polynomial that only saves non-zero terms. The first line of input will be several (power, coefficient) pairs, which represent the non-zero terms of $P_1 (x)$, and the second line represents $P_2 (x)$. Note that input may not be the polynomial after simplifying; that is, the same power may occur more than once, and you should sum them all. Please output the non-zero terms of $P_1 (x)$, $P_2 (x)$ and the result of $P_1 (x)×P_2 (x)$ in dictionary form. If the polynomial is a zero-polynomial, please output 0 directly.\n",
    "# Input \n",
    "\n",
    "(power,coefficient) pairs of $P_1 (x)$ without simplifying</br>\n",
    "(power,coefficient) pairs of $P_2 (x)$ without simplifying</br>\n",
    "\n",
    "# Output\n",
    "\n",
    "A dictionary with non-zero terms of $P_1 (x)$ in ascending order</br>\n",
    "A dictionary with non-zero terms of $P_2 (x)$ in ascending order</br>\n",
    "A dictionary with non-zero terms of $P_1 (x)×P_2 (x)$ in ascending order</br>\n"
   ]
  },
  {
   "cell_type": "markdown",
   "id": "91be5a1a",
   "metadata": {},
   "source": [
    "# Read Input Integers (given)"
   ]
  },
  {
   "cell_type": "code",
   "execution_count": 1,
   "id": "37ffdb8e",
   "metadata": {},
   "outputs": [],
   "source": [
    "p1 = input()\n",
    "p2 = input()\n",
    "#p1 = '(0,1) (0,2)'\n",
    "#p2 = '(0,3) (1,4)'\n",
    "#p1 = '(0,1) (2,3) (4,5) (4,-7) (2,5)'\n",
    "#p2 = '(10,9) (8,7) (6,5) (6,-5) (7,-1)'\n",
    "#p1 = '(0,1) (2,3) (4,5) (4,-5) (2,-3) (0,-1)'\n",
    "#p2 = '(0,1) (1,2) (2,3) (3,4) (4,5)'"
   ]
  },
  {
   "cell_type": "markdown",
   "id": "da763a44",
   "metadata": {},
   "source": [
    "# Main Program (write your main program here and copy and paste them to online judge when you are confident.)"
   ]
  },
  {
   "cell_type": "code",
   "execution_count": null,
   "id": "81090b55",
   "metadata": {},
   "outputs": [],
   "source": []
  }
 ],
 "metadata": {
  "kernelspec": {
   "display_name": "Python 3 (ipykernel)",
   "language": "python",
   "name": "python3"
  },
  "language_info": {
   "codemirror_mode": {
    "name": "ipython",
    "version": 3
   },
   "file_extension": ".py",
   "mimetype": "text/x-python",
   "name": "python",
   "nbconvert_exporter": "python",
   "pygments_lexer": "ipython3",
   "version": "3.12.2"
  }
 },
 "nbformat": 4,
 "nbformat_minor": 5
}
