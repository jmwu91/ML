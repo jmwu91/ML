{
 "cells": [
  {
   "cell_type": "markdown",
   "id": "5089ce07",
   "metadata": {},
   "source": [
    "# Description\n",
    "\n",
    "Please write a program that performs polynomial simplification and polynomial multiplication. A polynomial is defined as:\n",
    "\n",
    "$P(x)=a_n x^n+⋯+a_1 x+a_0$\n",
    "\n",
    "For simplicity, consider the coefficients $a_0$ as integers and the power $n \\ge 0$. Use a dictionary to represent a polynomial that only saves non-zero terms. The first line of input will be several (power, coefficient) pairs, which represent the non-zero terms of $P_1 (x)$, and the second line represents $P_2 (x)$. Note that input may not be the polynomial after simplifying; that is, the same power may occur more than once, and you should sum them all. Please output the non-zero terms of $P_1 (x)$, $P_2 (x)$ and the result of $P_1 (x)×P_2 (x)$ in dictionary form. If the polynomial is a zero-polynomial, please output 0 directly.\n",
    "# Input \n",
    "\n",
    "(power,coefficient) pairs of $P_1 (x)$ without simplifying</br>\n",
    "(power,coefficient) pairs of $P_2 (x)$ without simplifying</br>\n",
    "\n",
    "# Output\n",
    "\n",
    "A dictionary with non-zero terms of $P_1 (x)$ in ascending order</br>\n",
    "A dictionary with non-zero terms of $P_2 (x)$ in ascending order</br>\n",
    "A dictionary with non-zero terms of $P_1 (x)×P_2 (x)$ in ascending order</br>\n"
   ]
  },
  {
   "cell_type": "markdown",
   "id": "91be5a1a",
   "metadata": {},
   "source": [
    "# Read Input Integers (given)"
   ]
  },
  {
   "cell_type": "code",
   "execution_count": 2,
   "id": "37ffdb8e",
   "metadata": {},
   "outputs": [],
   "source": [
    "p1 = input()\n",
    "p2 = input()\n",
    "\n",
    "# p1 = '(0,1) (0,2)'\n",
    "# p2 = '(0,3) (1,4)'\n",
    "#p1 = '(0,1) (2,3) (4,5) (4,-7) (2,5)'\n",
    "#p2 = '(10,9) (8,7) (6,5) (6,-5) (7,-1)'\n",
    "#p1 = '(0,1) (2,3) (4,5) (4,-5) (2,-3) (0,-1)'\n",
    "#p2 = '(0,1) (1,2) (2,3) (3,4) (4,5)'"
   ]
  },
  {
   "cell_type": "markdown",
   "id": "da763a44",
   "metadata": {},
   "source": [
    "# Main Program (write your main program here and copy and paste them to online judge when you are confident.)"
   ]
  },
  {
   "cell_type": "code",
   "execution_count": 1,
   "id": "20a3e26e",
   "metadata": {},
   "outputs": [
    {
     "name": "stdout",
     "output_type": "stream",
     "text": [
      "The first polynomial after simplification: {0: 3}\n",
      "The second polynomial after simplification: {0: 3, 1: 4}\n",
      "The product of two polynomials: {0: 9, 1: 12}\n"
     ]
    }
   ],
   "source": [
    "# Function to read and parse a polynomial string into a dictionary\n",
    "def polynomial(poly_input):\n",
    "    terms = poly_input.replace(\"(\", \"\").replace(\")\", \"\").split(\" \")\n",
    "    poly = {}   \n",
    "    for term in terms:\n",
    "        if not term:  # Skip empty strings\n",
    "            continue\n",
    "        power, coef = map(int, term.split(\",\"))\n",
    "        poly[power] = poly.get(power, 0) + coef  # add coefficients\n",
    "    # Remove zero terms\n",
    "    return {k: v for k, v in poly.items() if v != 0}\n",
    "\n",
    "# multiply two polynomials\n",
    "def multiply(p1, p2):\n",
    "    product = {}\n",
    "    \n",
    "    for power1, coef1 in p1.items():\n",
    "        for power2, coef2 in p2.items():\n",
    "            new_power = power1 + power2\n",
    "            new_coef = coef1 * coef2\n",
    "            if new_power in product:\n",
    "                product[new_power] += new_coef\n",
    "            else:\n",
    "                product[new_power] = new_coef\n",
    "    # Remove zero terms\n",
    "    return {k: v for k, v in product.items() if v != 0}\n",
    "\n",
    "# Function to print a polynomial in dictionary form\n",
    "def display_polynomial(title, poly):\n",
    "    if poly:\n",
    "        sorted_poly = dict(sorted(poly.items()))\n",
    "        print(f\"{title}: {sorted_poly}\")\n",
    "    else:\n",
    "        print(f\"{title}: 0\")\n",
    "\n",
    "p1 = input()\n",
    "p2 = input()\n",
    "\n",
    "# Parse polynomials into dictionaries\n",
    "poly1 = polynomial(p1)\n",
    "poly2 = polynomial(p2)\n",
    "\n",
    "# Print both polynomials\n",
    "display_polynomial(\"The first polynomial after simplification\", poly1)\n",
    "display_polynomial(\"The second polynomial after simplification\", poly2)\n",
    "\n",
    "# Multiply the two polynomials\n",
    "mult_result = multiply(poly1, poly2)\n",
    "display_polynomial(\"The product of two polynomials\", mult_result)"
   ]
  },
  {
   "cell_type": "code",
   "execution_count": null,
   "id": "39eafb29",
   "metadata": {},
   "outputs": [],
   "source": []
  }
 ],
 "metadata": {
  "kernelspec": {
   "display_name": "Python 3 (ipykernel)",
   "language": "python",
   "name": "python3"
  },
  "language_info": {
   "codemirror_mode": {
    "name": "ipython",
    "version": 3
   },
   "file_extension": ".py",
   "mimetype": "text/x-python",
   "name": "python",
   "nbconvert_exporter": "python",
   "pygments_lexer": "ipython3",
   "version": "3.11.3"
  }
 },
 "nbformat": 4,
 "nbformat_minor": 5
}
