{
 "cells": [
  {
   "cell_type": "markdown",
   "id": "f5b38b5a",
   "metadata": {},
   "source": [
    "# Description\n",
    "\n",
    "We have learned to use 2D list to represent a matrix. This representation makes sense if a matrix is full of nonzero values. However, for a sparse matrix (i.e. a matrix that is comprised of mostly zeros), like the one below:\n",
    "\n",
    "\\begin{bmatrix}\n",
    " 0 &  0 &  0 &  5 &  0\\\\\n",
    " 0 &  0 &  0 &  0 &  0\\\\\n",
    " 0 & 10 &  0 &  0 &  0\\\\\n",
    " 0 &  0 &  0 &  0 &  6\\\\\n",
    " 0 &  0 &  6 &  0 &  0\\\\\n",
    "\\end{bmatrix}\n",
    "\n",
    "A list may not be the most efficient way to represent the matrix since it contains a lot of zeros. \n",
    "\n",
    "An alternative is to use dictionary, where the row and column indexes can be joined as tuples and used as the keys, and we only have to record nonzero values. A dictionary representation of the above matrix can be obtained:\n",
    "\n",
    "$\\{(0,3):5, (2,1):10, (3,4):6, (4,2):6\\}$\n",
    "\n",
    "\n",
    "Please write a program for users to input the dimensions (i.e. the numbers of rows and columns) of a matrix and the number of nonzero integers within this matrix. Please parse the input and first use a dictionary to store these nonzero integers and their locations, and then reconstruct a full matrix based upon these input numbers (note: each item takes up 2-slot space, and space is used to separate items from the same row).\n",
    "\n",
    "# Input\n",
    "\n",
    "nrows,ncols,nNonZeros<br>\n",
    "row_idx1,col_idx1,nonzero1<br>\n",
    "row_idx2,col_idx2,nonzero2<br>\n",
    "...<br>\n",
    "row_idxN,col_idxN,nonzeroN<br>\n",
    "\n",
    "\n",
    "# Output\n",
    "\n",
    "A dictionary with nonzero integers and their locations<br>\n",
    "A full matrix with both zero and nonzero integers<br>"
   ]
  },
  {
   "cell_type": "markdown",
   "id": "3f02d0c4",
   "metadata": {},
   "source": [
    "## Reading Input (given)\n",
    "The following lines of code will help you read in the input string"
   ]
  },
  {
   "cell_type": "code",
   "execution_count": null,
   "id": "82435186",
   "metadata": {},
   "outputs": [],
   "source": [
    "str1 = input()\n",
    "\n",
    "lst1 = str1.split(',')\n",
    "nrows = int(lst1[0])\n",
    "ncols = int(lst1[1])\n",
    "nnonzeros = int(lst1[2])"
   ]
  },
  {
   "cell_type": "code",
   "execution_count": null,
   "id": "557fdc82",
   "metadata": {},
   "outputs": [],
   "source": [
    "# Sample input for testing\n",
    "\n",
    "#nrows = 5\n",
    "#ncols = 5\n",
    "#nnonzeros = 4\n",
    "#dict_mtrx = {(0, 3): 5, (2, 1): 5, (3, 4): 6, (4, 2): 6}\n",
    "\n",
    "# nrows = 5\n",
    "# ncols = 6\n",
    "# nnonzeros = 5\n",
    "# dict_mtrx = {(0, 2): 1, (2, 1): 99, (4, 3): 6, (3, 5): 5, (0, 0): 45}"
   ]
  },
  {
   "cell_type": "markdown",
   "id": "067b31da",
   "metadata": {},
   "source": [
    "# Main Program (write your main program here and copy and paste them to online judge when you are confident.)"
   ]
  },
  {
   "cell_type": "code",
   "execution_count": null,
   "id": "314fe8b6",
   "metadata": {},
   "outputs": [],
   "source": []
  }
 ],
 "metadata": {
  "kernelspec": {
   "display_name": "Python 3 (ipykernel)",
   "language": "python",
   "name": "python3"
  },
  "language_info": {
   "codemirror_mode": {
    "name": "ipython",
    "version": 3
   },
   "file_extension": ".py",
   "mimetype": "text/x-python",
   "name": "python",
   "nbconvert_exporter": "python",
   "pygments_lexer": "ipython3",
   "version": "3.8.8"
  }
 },
 "nbformat": 4,
 "nbformat_minor": 5
}
