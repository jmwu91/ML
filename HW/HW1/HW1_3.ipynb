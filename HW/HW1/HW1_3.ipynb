{
 "cells": [
  {
   "cell_type": "markdown",
   "id": "6053bfff",
   "metadata": {},
   "source": [
    "# Description\n",
    "\n",
    "Create a n-by-m matrix containing the even integers from 2 to (n x m)x2. Create a second m-by-2 matrix containing the random integers of 4 or 9 with a given random seed s. Print these two matrices and their matrix multiplication. (hint: for the second matrix, please generate a matrix with a random number of 0 or 1 and use a mask to change them to 4 or 9)\n",
    "\n",
    "# Input \n",
    "\n",
    "n,m,s\n",
    "\n",
    "# Output\n",
    "\n",
    "- A n-by-m matrix containing the even integers from 2 through (n x m)x2\n",
    "- A m-by-2 matrix containing the random integers of 4 or 9 with a given random seed s\n",
    "- A resulting n-by-2 matrix"
   ]
  },
  {
   "cell_type": "markdown",
   "id": "08260bda",
   "metadata": {},
   "source": [
    "## Reading Input (given)\n",
    "The following lines of code will help you read in the input integer"
   ]
  },
  {
   "cell_type": "code",
   "execution_count": 1,
   "id": "c60b20de",
   "metadata": {},
   "outputs": [],
   "source": [
    "str_in = input()"
   ]
  },
  {
   "cell_type": "code",
   "execution_count": 2,
   "id": "091d48b4",
   "metadata": {},
   "outputs": [],
   "source": []
  },
  {
   "cell_type": "markdown",
   "id": "54f1ca24",
   "metadata": {},
   "source": [
    "# Main Program (write your main program here and copy and paste them to online judge when you are confident.)"
   ]
  },
  {
   "cell_type": "code",
   "execution_count": null,
   "id": "d8afac0d",
   "metadata": {},
   "outputs": [],
   "source": []
  },
  {
   "cell_type": "code",
   "execution_count": null,
   "id": "ff157cd5",
   "metadata": {},
   "outputs": [],
   "source": []
  }
 ],
 "metadata": {
  "kernelspec": {
   "display_name": "Python 3 (ipykernel)",
   "language": "python",
   "name": "python3"
  },
  "language_info": {
   "codemirror_mode": {
    "name": "ipython",
    "version": 3
   },
   "file_extension": ".py",
   "mimetype": "text/x-python",
   "name": "python",
   "nbconvert_exporter": "python",
   "pygments_lexer": "ipython3",
   "version": "3.10.13"
  }
 },
 "nbformat": 4,
 "nbformat_minor": 5
}
