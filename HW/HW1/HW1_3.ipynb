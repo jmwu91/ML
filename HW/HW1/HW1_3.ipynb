{
 "cells": [
  {
   "cell_type": "markdown",
   "id": "6053bfff",
   "metadata": {},
   "source": [
    "# Description\n",
    "\n",
    "Create a n-by-m matrix containing the even integers from 2 to (n x m)x2. Create a second m-by-2 matrix containing the random integers of 4 or 9 with a given random seed s. Print these two matrices and their matrix multiplication. (hint: for the second matrix, please generate a matrix with a random number of 0 or 1 and use a mask to change them to 4 or 9)\n",
    "\n",
    "# Input \n",
    "\n",
    "n,m,s\n",
    "\n",
    "# Output\n",
    "\n",
    "- A n-by-m matrix containing the even integers from 2 through (n x m)x2\n",
    "- A m-by-2 matrix containing the random integers of 4 or 9 with a given random seed s\n",
    "- A resulting n-by-2 matrix"
   ]
  },
  {
   "cell_type": "markdown",
   "id": "08260bda",
   "metadata": {},
   "source": [
    "## Reading Input (given)\n",
    "The following lines of code will help you read in the input integer"
   ]
  },
  {
   "cell_type": "markdown",
   "id": "54f1ca24",
   "metadata": {},
   "source": [
    "# Main Program (write your main program here and copy and paste them to online judge when you are confident.)"
   ]
  },
  {
   "cell_type": "code",
   "execution_count": 1,
   "id": "d8afac0d",
   "metadata": {},
   "outputs": [],
   "source": [
    "import numpy as np"
   ]
  },
  {
   "cell_type": "code",
   "execution_count": 13,
   "id": "ff157cd5",
   "metadata": {},
   "outputs": [
    {
     "name": "stdout",
     "output_type": "stream",
     "text": [
      "The first matrix is:\n",
      "[[ 2  4  6  8 10]\n",
      " [12 14 16 18 20]\n",
      " [22 24 26 28 30]]\n",
      "The second matrix is:\n",
      "[[9 9]\n",
      " [4 9]\n",
      " [9 4]\n",
      " [9 9]\n",
      " [4 4]]\n",
      "The multiplication results of the first and second matrices are:\n",
      "[[200 190]\n",
      " [550 540]\n",
      " [900 890]]\n"
     ]
    }
   ],
   "source": [
    "str_in = input()\n",
    "# n by m matrix, random seed s\n",
    "n, m, s = map(int, str_in.split(','))\n",
    "# first_matrix\n",
    "first_matrix = np.arange(2, (n * m) * 2 + 1, 2).reshape(n, m)\n",
    "print(\"The first matrix is:\")\n",
    "print(first_matrix)\n",
    "# second_matrix\n",
    "np.random.seed(s)\n",
    "second_matrix = np.random.randint(0, 2, size = (m, 2))\n",
    "second_matrix = np.where(second_matrix == 0, 4, 9)\n",
    "print(\"The second matrix is:\")\n",
    "print(second_matrix)\n",
    "# The multiplication results of the first and second matrices\n",
    "result_matrix = np.dot(first_matrix, second_matrix)\n",
    "print(\"The multiplication results of the first and second matrices are:\")\n",
    "print(result_matrix)"
   ]
  },
  {
   "cell_type": "code",
   "execution_count": null,
   "id": "19cff79c",
   "metadata": {},
   "outputs": [],
   "source": []
  }
 ],
 "metadata": {
  "kernelspec": {
   "display_name": "Python 3 (ipykernel)",
   "language": "python",
   "name": "python3"
  },
  "language_info": {
   "codemirror_mode": {
    "name": "ipython",
    "version": 3
   },
   "file_extension": ".py",
   "mimetype": "text/x-python",
   "name": "python",
   "nbconvert_exporter": "python",
   "pygments_lexer": "ipython3",
   "version": "3.12.3"
  }
 },
 "nbformat": 4,
 "nbformat_minor": 5
}
