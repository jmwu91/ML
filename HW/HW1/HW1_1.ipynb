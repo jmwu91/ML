{
 "cells": [
  {
   "cell_type": "markdown",
   "id": "f5b38b5a",
   "metadata": {},
   "source": [
    "# Description\n",
    "\n",
    "Consider the grade records containing five exams for class 01 and class 02, where class 01 has n students and class 02 has m students. Prompt the online judge for a string containing the random seed, the number of students in class01 (n), and the number of students in class02 (m). Create an array of n by 5 for class 01 and an array of m by 5 for class 02 with randomly generated grades between 40 – 100 (100 included). Output the mean and standard deviation with two decimal places for class01 and class02. Output the mean and standard deviation with two decimal places of each exam for all students.\n",
    "\n",
    "# Input\n",
    "\n",
    "A string: ‘s, n, m’ where s is the random seed, n is the number of students in class01, and m is the number of students in class02.\n",
    "\n",
    "# Output\n",
    "\n",
    "- A n by 5 array (grade records for class01)\n",
    "- A m by 5 array (grade records for class02)\n",
    "- A (n+m) by 5 array (grade records for both classes)\n",
    "- The mean and standard deviation with two decimal places for class01 and class02\n",
    "- The mean and standard deviation of each exam with two decimal places for all students."
   ]
  },
  {
   "cell_type": "markdown",
   "id": "3f02d0c4",
   "metadata": {},
   "source": [
    "## Reading Input (given)\n",
    "The following lines of code will help you read in the input string"
   ]
  },
  {
   "cell_type": "code",
   "execution_count": 1,
   "id": "8d1f610f",
   "metadata": {},
   "outputs": [],
   "source": [
    "str_in = input()"
   ]
  },
  {
   "cell_type": "code",
   "execution_count": 1,
   "id": "82435186",
   "metadata": {},
   "outputs": [],
   "source": [
    "#A sample input string for testing\n",
    "# str_in = '42, 3, 2'\n",
    "# str_in = '6, 4, 3'"
   ]
  },
  {
   "cell_type": "markdown",
   "id": "067b31da",
   "metadata": {},
   "source": [
    "# Main Program (write your main program here and copy and paste them to online judge when you are confident.)"
   ]
  },
  {
   "cell_type": "code",
   "execution_count": 2,
   "id": "51db36ae",
   "metadata": {},
   "outputs": [],
   "source": []
  },
  {
   "cell_type": "code",
   "execution_count": 3,
   "id": "01c73f27",
   "metadata": {},
   "outputs": [],
   "source": []
  },
  {
   "cell_type": "code",
   "execution_count": 4,
   "id": "925d4390-c2fa-4270-8836-82b4a21ddabe",
   "metadata": {},
   "outputs": [
    {
     "name": "stdout",
     "output_type": "stream",
     "text": [
      "Grades for class01 are:\n",
      "[[ 78  91  68  54  82]\n",
      " [ 47 100  60  78  97]\n",
      " [ 58  62  50  50  63]]\n",
      "Grades for class02 are:\n",
      "[[92 75 79 63 42]\n",
      " [61 92 41 63 83]]\n",
      "Grades for both classes are:\n",
      "[[ 78  91  68  54  82]\n",
      " [ 47 100  60  78  97]\n",
      " [ 58  62  50  50  63]\n",
      " [ 92  75  79  63  42]\n",
      " [ 61  92  41  63  83]]\n"
     ]
    }
   ],
   "source": []
  },
  {
   "cell_type": "code",
   "execution_count": 6,
   "id": "23b0d90a-330d-4b81-9525-974ee023fb54",
   "metadata": {},
   "outputs": [
    {
     "name": "stdout",
     "output_type": "stream",
     "text": [
      "The mean and std for class01 are: 67.05, 16.45\n",
      "The mean and std for class02 are: 61.40, 13.93\n",
      "The mean and std for exam01 are: 65.43, 16.26\n",
      "The mean and std for exam02 are: 58.86, 9.83\n",
      "The mean and std for exam03 are: 62.86, 16.60\n",
      "The mean and std for exam04 are: 69.43, 19.37\n",
      "The mean and std for exam05 are: 66.57, 12.33\n"
     ]
    }
   ],
   "source": []
  }
 ],
 "metadata": {
  "kernelspec": {
   "display_name": "Python 3 (ipykernel)",
   "language": "python",
   "name": "python3"
  },
  "language_info": {
   "codemirror_mode": {
    "name": "ipython",
    "version": 3
   },
   "file_extension": ".py",
   "mimetype": "text/x-python",
   "name": "python",
   "nbconvert_exporter": "python",
   "pygments_lexer": "ipython3",
   "version": "3.9.18"
  }
 },
 "nbformat": 4,
 "nbformat_minor": 5
}
