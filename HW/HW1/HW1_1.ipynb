{
 "cells": [
  {
   "cell_type": "markdown",
   "id": "f5b38b5a",
   "metadata": {},
   "source": [
    "# Description\n",
    "\n",
    "Consider the grade records containing five exams for class 01 and class 02, where class 01 has n students and class 02 has m students. Prompt the online judge for a string containing the random seed, the number of students in class01 (n), and the number of students in class02 (m). Create an array of n by 5 for class 01 and an array of m by 5 for class 02 with randomly generated grades between 40 – 100 (100 included). Output the mean and standard deviation with two decimal places for class01 and class02. Output the mean and standard deviation with two decimal places of each exam for all students.\n",
    "\n",
    "# Input\n",
    "\n",
    "A string: ‘s, n, m’ where s is the random seed, n is the number of students in class01, and m is the number of students in class02.\n",
    "\n",
    "# Output\n",
    "\n",
    "- A n by 5 array (grade records for class01)\n",
    "- A m by 5 array (grade records for class02)\n",
    "- A (n+m) by 5 array (grade records for both classes)\n",
    "- The mean and standard deviation with two decimal places for class01 and class02\n",
    "- The mean and standard deviation of each exam with two decimal places for all students."
   ]
  },
  {
   "cell_type": "markdown",
   "id": "3f02d0c4",
   "metadata": {},
   "source": [
    "## Reading Input (given)\n",
    "The following lines of code will help you read in the input string"
   ]
  },
  {
   "cell_type": "code",
   "execution_count": 2,
   "id": "8d1f610f",
   "metadata": {},
   "outputs": [],
   "source": [
    "str_in = input()"
   ]
  },
  {
   "cell_type": "code",
   "execution_count": 1,
   "id": "82435186",
   "metadata": {},
   "outputs": [],
   "source": [
    "# A sample input string for testing\n",
    "# str_in = '42, 3, 2'\n",
    "# str_in = '6, 4, 3'"
   ]
  },
  {
   "cell_type": "markdown",
   "id": "067b31da",
   "metadata": {},
   "source": [
    "# Main Program (write your main program here and copy and paste them to online judge when you are confident.)"
   ]
  },
  {
   "cell_type": "code",
   "execution_count": 1,
   "id": "51db36ae",
   "metadata": {},
   "outputs": [],
   "source": [
    "import numpy as np"
   ]
  },
  {
   "cell_type": "code",
   "execution_count": 34,
   "id": "b1f6f30f",
   "metadata": {},
   "outputs": [
    {
     "name": "stdout",
     "output_type": "stream",
     "text": [
      "Grades for class01 are:\n",
      "[[ 78  91  68  54  82]\n",
      " [ 47 100  60  78  97]\n",
      " [ 58  62  50  50  63]]\n",
      "Grades for class02 are:\n",
      "[[92 75 79 63 42]\n",
      " [61 92 41 63 83]]\n",
      "Grades for both classes are:\n",
      "[[ 78  91  68  54  82]\n",
      " [ 47 100  60  78  97]\n",
      " [ 58  62  50  50  63]\n",
      " [ 92  75  79  63  42]\n",
      " [ 61  92  41  63  83]]\n",
      "The mean and std for class01 are: 69.20, 16.89\n",
      "The mean and std for class02 are: 69.10, 17.43\n",
      "The mean and std for exam01 are: 67.20, 15.89\n",
      "The mean and std for exam02 are: 84.00, 13.67\n",
      "The mean and std for exam03 are: 59.60, 13.31\n",
      "The mean and std for exam04 are: 61.60, 9.65\n",
      "The mean and std for exam05 are: 73.40, 19.06\n"
     ]
    }
   ],
   "source": [
    "import numpy as np\n",
    "str_in = input()\n",
    "s, n, m = map(int, str_in.split(', '))\n",
    "# def grades \n",
    "def class_grade(s, n, m):\n",
    "    np.random.seed(s)\n",
    "    class01_grades = np.random.randint(40, 101, size = (n, 5))\n",
    "    class02_grades = np.random.randint(40, 101, size = (m, 5)) \n",
    "    return class01_grades, class02_grades\n",
    "\n",
    "class01_grades, class02_grades = class_grade(s, n, m)\n",
    "\n",
    "class01_grades, class02_grades\n",
    "print(\"Grades for class01 are:\")\n",
    "print(class01_grades)\n",
    "print(\"Grades for class02 are:\")\n",
    "print(class02_grades)\n",
    "\n",
    "# combine two class grades\n",
    "grades_both = np.vstack((class01_grades, class02_grades))\n",
    "print(\"Grades for both classes are:\")\n",
    "print(grades_both)\n",
    "\n",
    "# Function to calculate mean and standard deviation\n",
    "def calculate_stats(grades):\n",
    "    mean = np.mean(grades)\n",
    "    std_dev = np.std(grades)\n",
    "    return round(mean, 2), round(std_dev, 2)\n",
    "\n",
    "# Calculate the mean and std for class 01\n",
    "class01_mean, class01_std = calculate_stats(class01_grades)\n",
    "\n",
    "# Calculate the mean and std for class 02\n",
    "class02_mean, class02_std = calculate_stats(class02_grades)\n",
    "\n",
    "# Calculate the mean and std for each exam across both classes\n",
    "exam_means = []\n",
    "exam_stds = []\n",
    "for i in range(5):\n",
    "    exam_mean, exam_std = calculate_stats(grades_both[:, i])\n",
    "    exam_means.append(exam_mean)\n",
    "    exam_stds.append(exam_std)\n",
    "\n",
    "# Output the results\n",
    "print(f\"The mean and std for class01 are: {class01_mean:.2f}, {class01_std:.2f}\")\n",
    "print(f\"The mean and std for class02 are: {class02_mean:.2f}, {class02_std:.2f}\")\n",
    "\n",
    "for i, (mean, std) in enumerate(zip(exam_means, exam_stds), 1):\n",
    "    print(f\"The mean and std for exam0{i} are: {mean:.2f}, {std:.2f}\")"
   ]
  },
  {
   "cell_type": "code",
   "execution_count": null,
   "id": "002d7efd",
   "metadata": {},
   "outputs": [],
   "source": []
  }
 ],
 "metadata": {
  "kernelspec": {
   "display_name": "Python 3 (ipykernel)",
   "language": "python",
   "name": "python3"
  },
  "language_info": {
   "codemirror_mode": {
    "name": "ipython",
    "version": 3
   },
   "file_extension": ".py",
   "mimetype": "text/x-python",
   "name": "python",
   "nbconvert_exporter": "python",
   "pygments_lexer": "ipython3",
   "version": "3.12.3"
  }
 },
 "nbformat": 4,
 "nbformat_minor": 5
}
