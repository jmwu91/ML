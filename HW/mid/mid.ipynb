{
 "cells": [
  {
   "cell_type": "code",
   "execution_count": 1,
   "metadata": {},
   "outputs": [],
   "source": [
    "import os\n",
    "import pandas as pd\n",
    "import numpy as np"
   ]
  },
  {
   "cell_type": "code",
   "execution_count": 3,
   "metadata": {},
   "outputs": [
    {
     "name": "stdout",
     "output_type": "stream",
     "text": [
      "raw train data: (11000, 26)\n",
      "test data: (2100, 25)\n",
      "--------------------------------\n",
      "X_train shape: (11000, 25)\n",
      "X_test shape: (2100, 25)\n",
      "y_train shape: (11000, 1)\n"
     ]
    }
   ],
   "source": [
    "def read_csv_file(file_name, index_col = 0):\n",
    "    current_dir = os.getcwd()\n",
    "    file_path = os.path.join(current_dir, file_name)\n",
    "    \n",
    "    if not os.path.exists(file_path):\n",
    "        raise FileNotFoundError(f\"找不到文件：{file_path}\")\n",
    "    \n",
    "    return pd.read_csv(file_path, index_col = index_col)\n",
    "\n",
    "try:\n",
    "    df_train_raw = read_csv_file('train.csv')\n",
    "    df_test = read_csv_file('X_test.csv')\n",
    "\n",
    "    print(\"raw train data:\", df_train_raw.shape)\n",
    "    print(\"test data:\", df_test.shape)\n",
    "\n",
    "    # print(\"Train data info:\")\n",
    "    # print(df_train_raw.info())\n",
    "    # print(\"\\nTest data info:\")\n",
    "    # print(df_test.info())\n",
    "\n",
    "    X_train = df_train_raw.drop('label', axis=1)\n",
    "    y_train = df_train_raw['label'].values.reshape(-1, 1)\n",
    "    X_test =  df_test\n",
    "    \n",
    "    print(\"--------------------------------\")\n",
    "    print(\"X_train shape:\", X_train.shape)\n",
    "    print(\"X_test shape:\", X_test.shape)\n",
    "    print(\"y_train shape:\", y_train.shape)\n",
    "except FileNotFoundError as e:\n",
    "    print(f\"錯誤：{e}\")\n",
    "except Exception as e:\n",
    "    print(f\"發生未知錯誤：{e}\")"
   ]
  },
  {
   "cell_type": "code",
   "execution_count": null,
   "metadata": {},
   "outputs": [],
   "source": []
  },
  {
   "cell_type": "code",
   "execution_count": 7,
   "metadata": {},
   "outputs": [
    {
     "name": "stdout",
     "output_type": "stream",
     "text": [
      "有盜刷經驗的卡片的總資料筆數: (2567, 26)\n",
      "有盜刷經驗的總卡片數: (731, 4)\n",
      "\n",
      "前五張卡片的盜刷統計:\n"
     ]
    },
    {
     "data": {
      "text/html": [
       "<div>\n",
       "<style scoped>\n",
       "    .dataframe tbody tr th:only-of-type {\n",
       "        vertical-align: middle;\n",
       "    }\n",
       "\n",
       "    .dataframe tbody tr th {\n",
       "        vertical-align: top;\n",
       "    }\n",
       "\n",
       "    .dataframe thead th {\n",
       "        text-align: right;\n",
       "    }\n",
       "</style>\n",
       "<table border=\"1\" class=\"dataframe\">\n",
       "  <thead>\n",
       "    <tr style=\"text-align: right;\">\n",
       "      <th></th>\n",
       "      <th>cano</th>\n",
       "      <th>fraud_count</th>\n",
       "      <th>total_count</th>\n",
       "      <th>ratio</th>\n",
       "    </tr>\n",
       "  </thead>\n",
       "  <tbody>\n",
       "    <tr>\n",
       "      <th>0</th>\n",
       "      <td>00757fafb1856b35797405c7125dfb3a2a25333d432ba9...</td>\n",
       "      <td>1</td>\n",
       "      <td>1</td>\n",
       "      <td>1.0</td>\n",
       "    </tr>\n",
       "    <tr>\n",
       "      <th>1</th>\n",
       "      <td>0088c019c076f46d6d02ad92f88b868d06bdf176756bfd...</td>\n",
       "      <td>1</td>\n",
       "      <td>1</td>\n",
       "      <td>1.0</td>\n",
       "    </tr>\n",
       "    <tr>\n",
       "      <th>2</th>\n",
       "      <td>00e9f2e8467b425ee3b3eb0ce767ebb99b70a510b440f5...</td>\n",
       "      <td>1</td>\n",
       "      <td>1</td>\n",
       "      <td>1.0</td>\n",
       "    </tr>\n",
       "    <tr>\n",
       "      <th>3</th>\n",
       "      <td>010482e4160d45ca0040bdc49a8b14c69f1f08fae3c6cc...</td>\n",
       "      <td>1</td>\n",
       "      <td>1</td>\n",
       "      <td>1.0</td>\n",
       "    </tr>\n",
       "    <tr>\n",
       "      <th>4</th>\n",
       "      <td>0115d48817f7d91450a32b8a60b06eaa667eccfebffa42...</td>\n",
       "      <td>3</td>\n",
       "      <td>3</td>\n",
       "      <td>1.0</td>\n",
       "    </tr>\n",
       "  </tbody>\n",
       "</table>\n",
       "</div>"
      ],
      "text/plain": [
       "                                                cano  fraud_count  \\\n",
       "0  00757fafb1856b35797405c7125dfb3a2a25333d432ba9...            1   \n",
       "1  0088c019c076f46d6d02ad92f88b868d06bdf176756bfd...            1   \n",
       "2  00e9f2e8467b425ee3b3eb0ce767ebb99b70a510b440f5...            1   \n",
       "3  010482e4160d45ca0040bdc49a8b14c69f1f08fae3c6cc...            1   \n",
       "4  0115d48817f7d91450a32b8a60b06eaa667eccfebffa42...            3   \n",
       "\n",
       "   total_count  ratio  \n",
       "0            1    1.0  \n",
       "1            1    1.0  \n",
       "2            1    1.0  \n",
       "3            1    1.0  \n",
       "4            3    1.0  "
      ]
     },
     "execution_count": 7,
     "metadata": {},
     "output_type": "execute_result"
    }
   ],
   "source": [
    "# 步驟 1: 篩選出所有曾經被盜刷的卡片的交易記錄\n",
    "df_steal = df_train_raw[df_train_raw['cano'].isin(df_train_raw[df_train_raw['label'] == 1]['cano'].unique())]\n",
    "\n",
    "# 步驟 2: 對每張卡片進行盜刷統計\n",
    "df_steal_again = df_steal.groupby('cano')['label'].agg(\n",
    "    fraud_count = 'sum',  # 盜刷次數\n",
    "    total_count = 'size'  # 總交易次數\n",
    ").reset_index()\n",
    "\n",
    "# 步驟 3: 計算每張卡片的盜刷比率\n",
    "df_steal_again['ratio'] = df_steal_again['fraud_count'] / df_steal_again['total_count']\n",
    "\n",
    "# 輸出結果\n",
    "print(f'有盜刷經驗的卡片的總資料筆數: {df_steal.shape}')\n",
    "print(f'有盜刷經驗的總卡片數: {df_steal_again.shape}')\n",
    "\n",
    "print(\"\\n前五張卡片的盜刷統計:\")\n",
    "df_steal_again.head()\n",
    "\n",
    "\n",
    "# 額外分析：盜刷比率最高的10張卡片\n",
    "# print(\"\\n盜刷比率最高的10張卡片:\")\n",
    "# print(df_steal_again.sort_values('ratio', ascending=False).head(10))\n",
    "\n",
    "# # 盜刷比率分布\n",
    "# print(\"\\n盜刷比率的描述性統計:\")\n",
    "# print(df_steal_again['ratio'].describe())"
   ]
  },
  {
   "cell_type": "code",
   "execution_count": 10,
   "metadata": {},
   "outputs": [
    {
     "name": "stdout",
     "output_type": "stream",
     "text": [
      "(11000, 21)\n",
      "(11000, 21)\n"
     ]
    }
   ],
   "source": [
    "# Remove explanatory variables that do not contribute to modeling\n",
    "# 先把幾個沒啥用的變數先拿掉，\n",
    "df_raw_train = df_train_raw.drop(['bnsfg','iterm','flbmk','insfg','flam1'],\n",
    "                                 axis = 1,\n",
    "                                 inplace = False\n",
    "                                 )\n",
    "\n",
    "df_raw_test = df_test_raw.drop(['bnsfg','iterm','flbmk','insfg','flam1'],\n",
    "                               axis = 1,\n",
    "                               inplace = False\n",
    "                               )\n",
    "\n",
    "print(df_raw_train.shape)\n",
    "print(df_raw_test.shape)"
   ]
  },
  {
   "cell_type": "code",
   "execution_count": null,
   "metadata": {},
   "outputs": [],
   "source": []
  },
  {
   "cell_type": "code",
   "execution_count": null,
   "metadata": {},
   "outputs": [],
   "source": []
  }
 ],
 "metadata": {
  "kernelspec": {
   "display_name": "Python 3",
   "language": "python",
   "name": "python3"
  },
  "language_info": {
   "codemirror_mode": {
    "name": "ipython",
    "version": 3
   },
   "file_extension": ".py",
   "mimetype": "text/x-python",
   "name": "python",
   "nbconvert_exporter": "python",
   "pygments_lexer": "ipython3",
   "version": "3.12.3"
  }
 },
 "nbformat": 4,
 "nbformat_minor": 2
}
